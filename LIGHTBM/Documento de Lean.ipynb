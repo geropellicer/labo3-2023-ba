{
 "cells": [
  {
   "cell_type": "markdown",
   "metadata": {},
   "source": [
    "## Importamos librerías"
   ]
  },
  {
   "cell_type": "code",
   "execution_count": 4,
   "metadata": {},
   "outputs": [],
   "source": [
    "###### Feature Engineering ######\n",
    "import pandas as pd\n",
    "import numpy as np\n",
    "from window_ops.rolling import rolling_mean, rolling_max, rolling_min\n",
    "\n",
    "###### Load the API  ######\n",
    "import requests\n",
    "import gzip\n",
    "import io\n",
    "\n",
    "###### Forecasting ######\n",
    "from mlforecast import MLForecast\n",
    "from empresa4.core import calculate_error\n",
    "from sklearn.ensemble import RandomForestRegressor\n",
    "from sklearn.impute import SimpleImputer\n",
    "from sklearn.pipeline import make_pipeline\n",
    "from xgboost import XGBRegressor\n",
    "import lightgbm as lgb \n",
    "\n",
    "\n",
    "from empresa4.datasets import nombres_datasets, get_dataset\n",
    "\n",
    "###### Visualize ######\n",
    "import matplotlib.pyplot as plt\n",
    "import seaborn as sns\n",
    "\n",
    "###### Pipelines ######\n",
    "from sklearn.base import BaseEstimator, TransformerMixin\n",
    "from sklearn.compose import ColumnTransformer\n",
    "from sklearn.preprocessing import LabelEncoder\n",
    "from sklearn.pipeline import Pipeline"
   ]
  },
  {
   "cell_type": "code",
   "execution_count": 2,
   "metadata": {},
   "outputs": [],
   "source": [
    "# Set the display.max_columns to None to display all columns\n",
    "pd.set_option('display.max_columns', None)"
   ]
  },
  {
   "cell_type": "code",
   "execution_count": 3,
   "metadata": {},
   "outputs": [
    {
     "name": "stdout",
     "output_type": "stream",
     "text": [
      "01_original\n",
      "01_producto_estrella\n",
      "01_productos_todos\n",
      "01_por_cliente\n",
      "maestro_productos\n"
     ]
    }
   ],
   "source": [
    "# Imprime la lista de nombres de datasets\n",
    "for nombre in nombres_datasets:\n",
    "    print(nombre)"
   ]
  },
  {
   "cell_type": "markdown",
   "metadata": {},
   "source": [
    "## Funciones"
   ]
  },
  {
   "cell_type": "code",
   "execution_count": 5,
   "metadata": {},
   "outputs": [],
   "source": [
    "def cargar_dataset(url, sep='\\t', header='infer'):\n",
    "    \"\"\"\n",
    "    Lee un archivo CSV comprimido con gzip desde una URL y lo carga en un DataFrame de Pandas.\n",
    "\n",
    "    :param url: String con la URL del archivo .gz.\n",
    "    :param sep: String delimitador para separar campos en el archivo CSV.\n",
    "    :param header: Parámetro para determinar la fila que debe usarse como nombre de las columnas.\n",
    "    :return: DataFrame de Pandas con los datos del archivo CSV.\n",
    "    \"\"\"\n",
    "    # Realizar la petición HTTP para obtener el contenido del archivo\n",
    "    response = requests.get(url)\n",
    "\n",
    "    # Asegurarse de que la petición fue exitosa\n",
    "    if response.status_code == 200:\n",
    "        # Descomprimir el contenido en memoria y leer directamente en un DataFrame\n",
    "        with io.BytesIO(response.content) as bytes_io:\n",
    "            with gzip.open(bytes_io, 'rt') as read_file:\n",
    "                df = pd.read_csv(read_file, sep=sep, header=header)\n",
    "        return df\n",
    "    else:\n",
    "        raise IOError(f\"Error al descargar el archivo: {response.status_code}\")\n",
    "    \n",
    "def read_csv_from_url(url, sep='\\t', header='infer'):\n",
    "    response = requests.get(url)\n",
    "    if response.status_code == 200:\n",
    "        df = pd.read_csv(io.StringIO(response.content.decode('utf-8')), sep=sep, header=header)\n",
    "        return df\n",
    "    else:\n",
    "        raise IOError(f\"Error al descargar el archivo: {response.status_code}\")\n",
    "    \n",
    "def plotear_grafico(df):\n",
    "    # Convertir el 'periodo' a formato de fecha para mejor visualización en el gráfico\n",
    "    df['periodo'] = pd.to_datetime(df['periodo'], format='%Y%m')\n",
    "\n",
    "    # Crear nuevamente el gráfico de línea con Seaborn\n",
    "    plt.figure(figsize=(14, 7))\n",
    "    line_plot = sns.lineplot(data=df, x='periodo', y='tn', marker='o', color='blue', linewidth=2.5)\n",
    "\n",
    "    # Títulos y etiquetas\n",
    "    line_plot.set_title('Evolución de Toneladas a lo largo del Tiempo', fontsize=16)\n",
    "    line_plot.set_xlabel('Periodo', fontsize=14)\n",
    "    line_plot.set_ylabel('Toneladas (tn)', fontsize=14)\n",
    "\n",
    "    # Establecer el formato del eje x para mostrar todos los periodos\n",
    "    line_plot.xaxis.set_major_locator(plt.MaxNLocator(len(df['periodo'])))\n",
    "    line_plot.set_xticklabels(df['periodo'].dt.strftime('%Y-%m'), rotation=45, ha='right')\n",
    "\n",
    "    # Mostrar el gráfico\n",
    "    plt.tight_layout()\n",
    "    plt.show()\n",
    "    \n",
    "def fill_missing_months_multi_product(df):\n",
    "    # Find the earliest and latest period (assuming the format is YYYYMM)\n",
    "    min_year = df['periodo'].min() // 100\n",
    "    max_year = df['periodo'].max() // 100\n",
    "\n",
    "    # Generate all combinations of year and months\n",
    "    all_periods = pd.DataFrame({\n",
    "        'periodo': [year * 100 + month for year in range(min_year, max_year + 1) for month in range(1, 13)]\n",
    "    })\n",
    "\n",
    "    product_ids = df['product_id'].unique()\n",
    "    all_period_product_combinations = (\n",
    "        all_periods.assign(key=1)\n",
    "        .merge(pd.DataFrame({'product_id': product_ids, 'key': 1}), on='key')\n",
    "        .drop(columns=['key'])  # Using the 'columns' parameter for clarity\n",
    "    )\n",
    "\n",
    "    # Merge with the original DataFrame\n",
    "    df_complete = all_period_product_combinations.merge(df, on=['periodo', 'product_id'], how='left')\n",
    "\n",
    "    # Fill the 'tn' column with zeros where there are NaNs\n",
    "    df_complete['tn'] = df_complete['tn'].fillna(0)\n",
    "\n",
    "    # Forward fill or backfill other columns that don't change for each product\n",
    "    columns_to_fill = ['plan_precios_cuidados', 'cat1', 'cat2', 'cat3', 'brand', 'sku_size']\n",
    "    df_complete.sort_values(by=['product_id', 'periodo'], inplace=True)\n",
    "    df_complete[columns_to_fill] = df_complete.groupby('product_id')[columns_to_fill].ffill().bfill()\n",
    "    return df_complete\n",
    "\n",
    "def generar_delta_lags_optimizado(df, prefijo_lag='lag_', prefijo_delta_lag='delta_lag_'):\n",
    "    \"\"\"\n",
    "    Genera delta lags de manera más eficiente para una columna específica de un DataFrame de pandas.\n",
    "\n",
    "    :param df: DataFrame original que ya contiene las columnas de lags.\n",
    "    :param prefijo_lag: Prefijo utilizado para las columnas de lags en el DataFrame.\n",
    "    :param prefijo_delta_lag: Prefijo utilizado para las nuevas columnas de delta lags.\n",
    "    :return: DataFrame con las columnas de delta lags añadidas.\n",
    "    \"\"\"\n",
    "    \n",
    "    # Identificar todas las columnas de lags en el DataFrame\n",
    "    columnas_lags = [col for col in df.columns if col.startswith(prefijo_lag)]\n",
    "    \n",
    "    # Generar las columnas de delta lags\n",
    "    for i in range(len(columnas_lags) - 1):\n",
    "        col_lag_actual = columnas_lags[i]\n",
    "        col_lag_siguiente = columnas_lags[i + 1]\n",
    "        df[prefijo_delta_lag + str(i + 1)] = df[col_lag_actual] - df[col_lag_siguiente]\n",
    "    \n",
    "    return df\n",
    "\n",
    "# Re-creating the optimized lag generation function after the reset\n",
    "def generar_lags_optimizado(df, nombre_col_original='tn', cant_lags=12):\n",
    "    \"\"\"\n",
    "    Genera lags de manera más eficiente para una columna específica de un DataFrame de pandas.\n",
    "\n",
    "    :param df: DataFrame original.\n",
    "    :param nombre_col_original: Nombre de la columna sobre la cual se quieren calcular los lags.\n",
    "    :param cant_lags: Cantidad de lags a generar.\n",
    "    :return: DataFrame con las columnas de lags añadidas.\n",
    "    \"\"\"\n",
    "    \n",
    "    # Obtener una lista de productos únicos\n",
    "    productos_unicos = df['product_id'].unique()\n",
    "    \n",
    "    # Preparar un contenedor para los DataFrames de lags\n",
    "    lags_list = []\n",
    "    \n",
    "    # Iterar sobre cada producto único\n",
    "    for producto in productos_unicos:\n",
    "        # Filtrar el DataFrame por producto\n",
    "        df_producto = df[df['product_id'] == producto].copy()\n",
    "        \n",
    "        # Generar lags para la columna deseada\n",
    "        for lag in range(1, cant_lags + 1):\n",
    "            df_producto[f'lag_{lag}'] = df_producto[nombre_col_original].shift(lag)\n",
    "        \n",
    "        # Añadir el DataFrame de lags a la lista\n",
    "        lags_list.append(df_producto)\n",
    "    \n",
    "    # Concatenar todos los DataFrames de lags\n",
    "    df_con_lags = pd.concat(lags_list).sort_index()\n",
    "    \n",
    "    return df_con_lags\n",
    "\n",
    "def generar_medias_optimizado(df, nombre_col_original='tn', lista_medias_target=[2,3,4,6,10], prefijo_col_media='media'):\n",
    "    \"\"\"\n",
    "    Genera las medias móviles de los últimos N meses de manera más eficiente para una columna específica de un DataFrame de pandas.\n",
    "\n",
    "    :param df: DataFrame original.\n",
    "    :param nombre_col_original: Nombre de la columna sobre la cual se quieren calcular las medias móviles.\n",
    "    :param lista_medias_target: Lista de enteros que representan el número de meses para calcular la media móvil.\n",
    "    :param prefijo_col_media: Prefijo para las nuevas columnas de medias móviles.\n",
    "    :return: DataFrame con las columnas de medias móviles añadidas.\n",
    "    \"\"\"\n",
    "    \n",
    "    # Obtener una lista de productos únicos\n",
    "    productos_unicos = df['product_id'].unique()\n",
    "    \n",
    "    # Preparar un contenedor para los DataFrames de medias móviles\n",
    "    medias_list = []\n",
    "    \n",
    "    # Iterar sobre cada producto único\n",
    "    for producto in productos_unicos:\n",
    "        # Filtrar el DataFrame por producto\n",
    "        df_producto = df[df['product_id'] == producto].copy()\n",
    "        \n",
    "        # Generar medias móviles para cada ventana especificada en lista_medias_target\n",
    "        for ventana in lista_medias_target:\n",
    "            col_media = f'{nombre_col_original}_{prefijo_col_media}_{ventana}'\n",
    "            df_producto[col_media] = df_producto[nombre_col_original].rolling(window=ventana).mean().shift()\n",
    "        \n",
    "        # Añadir el DataFrame de medias móviles a la lista\n",
    "        medias_list.append(df_producto)\n",
    "    \n",
    "    # Concatenar todos los DataFrames de medias móviles\n",
    "    df_con_medias = pd.concat(medias_list).sort_index()\n",
    "    \n",
    "    return df_con_medias\n",
    "\n",
    "# Custom transformer for label encoding multiple columns\n",
    "class MultiColumnLabelEncoder(BaseEstimator, TransformerMixin):\n",
    "    def __init__(self):\n",
    "        self.encoders = {}\n",
    "    \n",
    "    def fit(self, X, y=None):\n",
    "        for column in X.columns:\n",
    "            self.encoders[column] = LabelEncoder().fit(X[column])\n",
    "        return self\n",
    "    \n",
    "    def transform(self, X):\n",
    "        X_encoded = X.copy()\n",
    "        for column in X.columns:\n",
    "            X_encoded[column] = self.encoders[column].transform(X[column])\n",
    "        return X_encoded\n",
    "    \n",
    "    def inverse_transform(self, X):\n",
    "        X_decoded = X.copy()\n",
    "        for column in X.columns:\n",
    "            X_decoded[column] = self.encoders[column].inverse_transform(X[column])\n",
    "        return X_decoded"
   ]
  },
  {
   "cell_type": "markdown",
   "metadata": {},
   "source": [
    "## Importamos Datasets"
   ]
  },
  {
   "cell_type": "code",
   "execution_count": 6,
   "metadata": {},
   "outputs": [],
   "source": [
    "df_clientes = get_dataset(\"01_por_cliente\")\n",
    "df_productos = get_dataset(\"01_productos_todos\")\n",
    "df_estrella = get_dataset(\"01_producto_estrella\")\n",
    "df_original = get_dataset(\"01_original\")"
   ]
  },
  {
   "cell_type": "code",
   "execution_count": 7,
   "metadata": {},
   "outputs": [],
   "source": [
    "# URL del archivo .gz\n",
    "url_tb_sellout_02 = 'https://storage.googleapis.com/open-courses/austral2023-labo3-d0e5/tb_sellout_02.txt.gz'\n",
    "url_tb_stocks_02 = 'https://storage.googleapis.com/open-courses/austral2023-labo3-d0e5/tb_stocks_02.txt.gz'\n",
    "url_tb_productos_02 = 'https://storage.googleapis.com/open-courses/austral2023-labo3-d0e5/tb_productos_02.txt'\n",
    "\n",
    "# Uso de la función\n",
    "df_tb_sellout_02 = cargar_dataset(url_tb_sellout_02)\n",
    "df_tb_stocks_02 = cargar_dataset(url_tb_stocks_02)\n",
    "df_tb_productos_02= read_csv_from_url(url_tb_productos_02)"
   ]
  },
  {
   "cell_type": "code",
   "execution_count": 8,
   "metadata": {},
   "outputs": [
    {
     "data": {
      "text/plain": [
       "1251"
      ]
     },
     "execution_count": 8,
     "metadata": {},
     "output_type": "execute_result"
    }
   ],
   "source": [
    "# Productos distintos\n",
    "df_tb_productos_02.product_id.drop_duplicates().count()"
   ]
  },
  {
   "cell_type": "markdown",
   "metadata": {},
   "source": [
    "## Pre Processing"
   ]
  },
  {
   "cell_type": "code",
   "execution_count": 8,
   "metadata": {},
   "outputs": [],
   "source": [
    "# Juntamos los datasets Sellout con el maestro de productos\n",
    "df_sellout_with_cat = pd.merge(df_tb_sellout_02, df_tb_productos_02[['product_id', 'cat1', 'cat2', 'cat3', 'brand', 'sku_size']], on='product_id', how='left')\n",
    "# Agrupamos por categorías de productos\n",
    "df_aggregated = df_sellout_with_cat.groupby(['periodo', 'product_id', 'plan_precios_cuidados', \n",
    "                                             'cat1', 'cat2', 'cat3', 'brand', 'sku_size']).agg({'cust_request_tn': 'sum','tn': 'sum'}).reset_index()"
   ]
  },
  {
   "cell_type": "markdown",
   "metadata": {},
   "source": [
    "## Análisis Exploratorio"
   ]
  },
  {
   "cell_type": "code",
   "execution_count": 9,
   "metadata": {},
   "outputs": [
    {
     "name": "stderr",
     "output_type": "stream",
     "text": [
      "/tmp/ipykernel_77600/3189247823.py:46: UserWarning: set_ticklabels() should only be used with a fixed number of ticks, i.e. after set_ticks() or using a FixedLocator.\n",
      "  line_plot.set_xticklabels(df['periodo'].dt.strftime('%Y-%m'), rotation=45, ha='right')\n",
      "Locator attempting to generate 29261 ticks ([17113.800000000003, ..., 18284.2]), which exceeds Locator.MAXTICKS (1000).\n",
      "Locator attempting to generate 29261 ticks ([17113.800000000003, ..., 18284.2]), which exceeds Locator.MAXTICKS (1000).\n",
      "Locator attempting to generate 29261 ticks ([17113.800000000003, ..., 18284.2]), which exceeds Locator.MAXTICKS (1000).\n",
      "Locator attempting to generate 29261 ticks ([17113.800000000003, ..., 18284.2]), which exceeds Locator.MAXTICKS (1000).\n",
      "Locator attempting to generate 29261 ticks ([17113.800000000003, ..., 18284.2]), which exceeds Locator.MAXTICKS (1000).\n",
      "Locator attempting to generate 29261 ticks ([17113.800000000003, ..., 18284.2]), which exceeds Locator.MAXTICKS (1000).\n",
      "Locator attempting to generate 29261 ticks ([17113.800000000003, ..., 18284.2]), which exceeds Locator.MAXTICKS (1000).\n",
      "Locator attempting to generate 29261 ticks ([17113.800000000003, ..., 18284.2]), which exceeds Locator.MAXTICKS (1000).\n",
      "Locator attempting to generate 29261 ticks ([17113.800000000003, ..., 18284.2]), which exceeds Locator.MAXTICKS (1000).\n",
      "Locator attempting to generate 29261 ticks ([17113.800000000003, ..., 18284.2]), which exceeds Locator.MAXTICKS (1000).\n",
      "Locator attempting to generate 29261 ticks ([17113.800000000003, ..., 18284.2]), which exceeds Locator.MAXTICKS (1000).\n",
      "Locator attempting to generate 29261 ticks ([17113.800000000003, ..., 18284.2]), which exceeds Locator.MAXTICKS (1000).\n",
      "Locator attempting to generate 29261 ticks ([17113.800000000003, ..., 18284.2]), which exceeds Locator.MAXTICKS (1000).\n",
      "Locator attempting to generate 29261 ticks ([17113.800000000003, ..., 18284.2]), which exceeds Locator.MAXTICKS (1000).\n",
      "Locator attempting to generate 29261 ticks ([17113.800000000003, ..., 18284.2]), which exceeds Locator.MAXTICKS (1000).\n",
      "Locator attempting to generate 29261 ticks ([17113.800000000003, ..., 18284.2]), which exceeds Locator.MAXTICKS (1000).\n",
      "Locator attempting to generate 29261 ticks ([17113.800000000003, ..., 18284.2]), which exceeds Locator.MAXTICKS (1000).\n",
      "Locator attempting to generate 29261 ticks ([17113.800000000003, ..., 18284.2]), which exceeds Locator.MAXTICKS (1000).\n",
      "Locator attempting to generate 29261 ticks ([17113.800000000003, ..., 18284.2]), which exceeds Locator.MAXTICKS (1000).\n",
      "Locator attempting to generate 29261 ticks ([17113.800000000003, ..., 18284.2]), which exceeds Locator.MAXTICKS (1000).\n",
      "Locator attempting to generate 29261 ticks ([17113.800000000003, ..., 18284.2]), which exceeds Locator.MAXTICKS (1000).\n",
      "Locator attempting to generate 29261 ticks ([17113.800000000003, ..., 18284.2]), which exceeds Locator.MAXTICKS (1000).\n",
      "Locator attempting to generate 29261 ticks ([17113.800000000003, ..., 18284.2]), which exceeds Locator.MAXTICKS (1000).\n",
      "Locator attempting to generate 29261 ticks ([17113.800000000003, ..., 18284.2]), which exceeds Locator.MAXTICKS (1000).\n",
      "Locator attempting to generate 29261 ticks ([17113.800000000003, ..., 18284.2]), which exceeds Locator.MAXTICKS (1000).\n",
      "Locator attempting to generate 29261 ticks ([17113.800000000003, ..., 18284.2]), which exceeds Locator.MAXTICKS (1000).\n",
      "Locator attempting to generate 29261 ticks ([17113.800000000003, ..., 18284.2]), which exceeds Locator.MAXTICKS (1000).\n",
      "Locator attempting to generate 29261 ticks ([17113.800000000003, ..., 18284.2]), which exceeds Locator.MAXTICKS (1000).\n",
      "Locator attempting to generate 29261 ticks ([17113.800000000003, ..., 18284.2]), which exceeds Locator.MAXTICKS (1000).\n",
      "Locator attempting to generate 29261 ticks ([17113.800000000003, ..., 18284.2]), which exceeds Locator.MAXTICKS (1000).\n",
      "Locator attempting to generate 29261 ticks ([17113.800000000003, ..., 18284.2]), which exceeds Locator.MAXTICKS (1000).\n",
      "Locator attempting to generate 29261 ticks ([17113.800000000003, ..., 18284.2]), which exceeds Locator.MAXTICKS (1000).\n",
      "Locator attempting to generate 29261 ticks ([17113.800000000003, ..., 18284.2]), which exceeds Locator.MAXTICKS (1000).\n",
      "Locator attempting to generate 29261 ticks ([17113.800000000003, ..., 18284.2]), which exceeds Locator.MAXTICKS (1000).\n",
      "Locator attempting to generate 29261 ticks ([17113.800000000003, ..., 18284.2]), which exceeds Locator.MAXTICKS (1000).\n",
      "Locator attempting to generate 29261 ticks ([17113.800000000003, ..., 18284.2]), which exceeds Locator.MAXTICKS (1000).\n",
      "Locator attempting to generate 29261 ticks ([17113.800000000003, ..., 18284.2]), which exceeds Locator.MAXTICKS (1000).\n",
      "Locator attempting to generate 29261 ticks ([17113.800000000003, ..., 18284.2]), which exceeds Locator.MAXTICKS (1000).\n",
      "Locator attempting to generate 29261 ticks ([17113.800000000003, ..., 18284.2]), which exceeds Locator.MAXTICKS (1000).\n",
      "Locator attempting to generate 29261 ticks ([17113.800000000003, ..., 18284.2]), which exceeds Locator.MAXTICKS (1000).\n",
      "Locator attempting to generate 29261 ticks ([17113.800000000003, ..., 18284.2]), which exceeds Locator.MAXTICKS (1000).\n",
      "Locator attempting to generate 29261 ticks ([17113.800000000003, ..., 18284.2]), which exceeds Locator.MAXTICKS (1000).\n",
      "Locator attempting to generate 29261 ticks ([17113.800000000003, ..., 18284.2]), which exceeds Locator.MAXTICKS (1000).\n",
      "Locator attempting to generate 29261 ticks ([17113.800000000003, ..., 18284.2]), which exceeds Locator.MAXTICKS (1000).\n",
      "Locator attempting to generate 29261 ticks ([17113.800000000003, ..., 18284.2]), which exceeds Locator.MAXTICKS (1000).\n",
      "Locator attempting to generate 29261 ticks ([17113.800000000003, ..., 18284.2]), which exceeds Locator.MAXTICKS (1000).\n",
      "Locator attempting to generate 29261 ticks ([17113.800000000003, ..., 18284.2]), which exceeds Locator.MAXTICKS (1000).\n"
     ]
    },
    {
     "data": {
      "image/png": "[encoded data removed]",
      "text/plain": [
       "<Figure size 1400x700 with 1 Axes>"
      ]
     },
     "metadata": {},
     "output_type": "display_data"
    }
   ],
   "source": [
    "# Producto Estrella\n",
    "plotear_grafico(df_aggregated)"
   ]
  },
  {
   "cell_type": "code",
   "execution_count": 10,
   "metadata": {},
   "outputs": [
    {
     "ename": "NameError",
     "evalue": "name 'df_productos_grouped' is not defined",
     "output_type": "error",
     "traceback": [
      "\u001b[0;31m---------------------------------------------------------------------------\u001b[0m",
      "\u001b[0;31mNameError\u001b[0m                                 Traceback (most recent call last)",
      "\u001b[1;32m/home/gero/Documents/Austral/Laboratorio de Implementación 3/consultoria-multinacional/LIGHTBM/Documento de Lean.ipynb Cell 17\u001b[0m line \u001b[0;36m2\n\u001b[1;32m      <a href='vscode-notebook-cell:/home/gero/Documents/Austral/Laboratorio%20de%20Implementaci%C3%B3n%203/consultoria-multinacional/LIGHTBM/Documento%20de%20Lean.ipynb#X22sZmlsZQ%3D%3D?line=0'>1</a>\u001b[0m \u001b[39m# Todos los productos\u001b[39;00m\n\u001b[0;32m----> <a href='vscode-notebook-cell:/home/gero/Documents/Austral/Laboratorio%20de%20Implementaci%C3%B3n%203/consultoria-multinacional/LIGHTBM/Documento%20de%20Lean.ipynb#X22sZmlsZQ%3D%3D?line=1'>2</a>\u001b[0m plotear_grafico(df_productos_grouped)\n",
      "\u001b[0;31mNameError\u001b[0m: name 'df_productos_grouped' is not defined"
     ]
    }
   ],
   "source": [
    "# Todos los productos\n",
    "plotear_grafico(df_productos_grouped)"
   ]
  },
  {
   "cell_type": "code",
   "execution_count": null,
   "metadata": {},
   "outputs": [],
   "source": [
    "# Todos los productos de FOODS\n",
    "plotear_grafico(df_productos_cat_foods)"
   ]
  },
  {
   "cell_type": "code",
   "execution_count": null,
   "metadata": {},
   "outputs": [],
   "source": [
    "df_productos_cat_ref = df_productos_cat_grouped[df_productos_cat_grouped.product_category=='REF']"
   ]
  },
  {
   "cell_type": "code",
   "execution_count": null,
   "metadata": {},
   "outputs": [],
   "source": [
    "# Todos los productos de HC\n",
    "plotear_grafico(df_productos_cat_hc)"
   ]
  },
  {
   "cell_type": "code",
   "execution_count": null,
   "metadata": {},
   "outputs": [],
   "source": [
    "# Todos los productos de PC\n",
    "plotear_grafico(df_productos_cat_pc)"
   ]
  },
  {
   "cell_type": "code",
   "execution_count": null,
   "metadata": {},
   "outputs": [],
   "source": [
    "# Todos los productos de REF\n",
    "plotear_grafico(df_productos_cat_ref)"
   ]
  },
  {
   "cell_type": "markdown",
   "metadata": {},
   "source": [
    "## Feature Engineering"
   ]
  },
  {
   "cell_type": "code",
   "execution_count": null,
   "metadata": {},
   "outputs": [],
   "source": [
    "# Llamamos a la función para rellenar los registros faltantes\n",
    "df_complete = fill_missing_months_multi_product(df_aggregated)\n",
    "# Generamos los lags\n",
    "df_complete_lags = generar_lags_optimizado(df_complete)\n",
    "# Utilizamos el DataFrame con lags generado anteriormente para crear los delta lags\n",
    "df_complete_delta_lags = generar_delta_lags_optimizado(df_complete_lags)\n",
    "# Utilizamos el DataFrame con lags generado anteriormente para crear las medias móviles\n",
    "df_final = generar_medias_optimizado(df_complete_delta_lags)\n",
    "df_final = df_final.fillna(0)"
   ]
  },
  {
   "cell_type": "markdown",
   "metadata": {},
   "source": [
    "## Cross Validation por corte temporal"
   ]
  },
  {
   "cell_type": "code",
   "execution_count": null,
   "metadata": {},
   "outputs": [],
   "source": [
    "# Assuming df_final is the DataFrame you want to split into train and validation sets:\n",
    "df_final['periodo'] = pd.to_datetime(df_final['periodo'], format='%Y%m')\n",
    "\n",
    "# Cortamos hasta Febrero inclusive como TRAIN\n",
    "train = df_final[df_final['periodo'] <= pd.to_datetime('201902', format='%Y%m')]\n",
    "# Usamos MARZO como test\n",
    "valid_marzo = df_final[df_final['periodo'] == pd.to_datetime('201903', format='%Y%m')]\n",
    "# Usamos Abril como testing del PIPELINE\n",
    "valid = df_final[df_final['periodo'] == pd.to_datetime('201903', format='%Y%m')]\n",
    "\n",
    "# Para predecir Marzo\n",
    "X_train = train.drop(columns=['tn', 'periodo'])\n",
    "y_train = train['tn']\n",
    "X_test = valid_marzo.drop(columns=['tn', 'periodo'])\n",
    "y_test = valid_marzo['tn']"
   ]
  },
  {
   "cell_type": "markdown",
   "metadata": {},
   "source": [
    "## Modeling"
   ]
  },
  {
   "cell_type": "markdown",
   "metadata": {},
   "source": [
    "### Pipeline multiples algoritmos (código de Gustavo)"
   ]
  },
  {
   "cell_type": "code",
   "execution_count": null,
   "metadata": {},
   "outputs": [],
   "source": [
    "# List of dynamic features used during training\n",
    "dynamic_features = ['cust_request_tn','lag_1', 'lag_2', 'lag_3', 'lag_4', 'lag_5', 'lag_6', 'lag_7', 'lag_8',\n",
    "       'lag_9', 'lag_10', 'lag_11', 'lag_12', 'delta_lag_1', 'delta_lag_2',\n",
    "       'delta_lag_3', 'delta_lag_4', 'delta_lag_5', 'delta_lag_6',\n",
    "       'delta_lag_7', 'delta_lag_8', 'delta_lag_9', 'delta_lag_10',\n",
    "       'delta_lag_11', 'tn_media_2', 'tn_media_3', 'tn_media_4', 'tn_media_6',\n",
    "       'tn_media_10']\n",
    "\n",
    "# Prepare the DataFrame with the required features for prediction\n",
    "dynamic_df_for_prediction = valid_marzo[['product_id', 'periodo'] + dynamic_features]"
   ]
  },
  {
   "cell_type": "code",
   "execution_count": null,
   "metadata": {},
   "outputs": [],
   "source": [
    "# Specify the categorical columns you want to encode\n",
    "categorical_columns = ['cat1', 'cat2', 'cat3', 'brand']\n",
    "\n",
    "# Create a ColumnTransformer with the custom transformer for categorical columns\n",
    "preprocessor = ColumnTransformer(\n",
    "    transformers=[\n",
    "        ('cat', MultiColumnLabelEncoder(), categorical_columns)\n",
    "    ],\n",
    "    remainder='passthrough'  # This leaves the rest of the columns untouched\n",
    ")\n",
    "\n",
    "# Now include LGBMRegressor in your list of models\n",
    "models = [\n",
    "    Pipeline([\n",
    "        ('preprocessor', preprocessor),\n",
    "        ('random_forest', RandomForestRegressor(random_state=0, n_estimators=100))\n",
    "    ]),\n",
    "    Pipeline([\n",
    "        ('preprocessor', preprocessor),\n",
    "        ('xgboost', XGBRegressor(random_state=0, n_estimators=100))\n",
    "    ]),\n",
    "    Pipeline([\n",
    "        ('preprocessor', preprocessor),\n",
    "        ('lightgbm', lgb.LGBMRegressor(random_state=0, n_estimators=100))  # Add LGBMRegressor\n",
    "    ])\n",
    "]\n",
    "\n",
    "# Assuming MLForecast is a class that has been defined to take these models\n",
    "model = MLForecast(models=models,\n",
    "                   freq='M',\n",
    "                   lags=[1,2,3,4,5,6,7,8,9,10,11,12],\n",
    "                   lag_transforms={\n",
    "                       1: [(rolling_mean, 4), (rolling_min, 4), (rolling_max, 4)],\n",
    "                   },\n",
    "                   date_features=['month'],\n",
    "                   num_threads=6)\n"
   ]
  },
  {
   "cell_type": "code",
   "execution_count": null,
   "metadata": {},
   "outputs": [],
   "source": [
    "# Step 1: Train the model\n",
    "model.fit(train, id_col='product_id', time_col='periodo', target_col='tn')"
   ]
  },
  {
   "cell_type": "code",
   "execution_count": null,
   "metadata": {},
   "outputs": [],
   "source": [
    "# Step 2: Predict one period ahead\n",
    "predictions = model.predict(horizon=3, dynamic_dfs=[dynamic_df_for_prediction])\n",
    "predictions.rename(columns={'Pipeline': 'random_forest', \n",
    "                            'Pipeline2': 'xgboost', \n",
    "                            'Pipeline3': 'lightgbm'}, inplace=True)"
   ]
  },
  {
   "cell_type": "code",
   "execution_count": null,
   "metadata": {},
   "outputs": [],
   "source": [
    "# Hacer una copia para evitar SettingWithCopyWarning\n",
    "valid_set = valid[['product_id', 'periodo', 'tn']].copy()\n",
    "\n",
    "# Convertir la columna 'periodo' al formato deseado\n",
    "valid_set['periodo'] = pd.to_datetime(valid_set['periodo']).dt.strftime('%Y%m')\n",
    "\n",
    "# Solo necesitas hacer esto si 'predictions' no está ya en el formato AAAAMM\n",
    "predictions['periodo'] = pd.to_datetime(predictions['periodo']).dt.strftime('%Y%m')\n",
    "\n",
    "# Fusionar predicciones con el conjunto de validación para comparar los valores reales con los pronósticos\n",
    "p = predictions.merge(valid_set, on=['product_id', 'periodo'], how='left', suffixes=('', '_actual'))\n",
    "\n",
    "p = p[p.periodo == '201904']"
   ]
  },
  {
   "cell_type": "code",
   "execution_count": null,
   "metadata": {},
   "outputs": [],
   "source": [
    "def smape(y_true, y_pred):\n",
    "    return 100 * np.mean(np.abs(y_pred - y_true) / (np.abs(y_true) + np.abs(y_pred)))\n",
    "\n",
    "# Here 'p' is your DataFrame containing the actual values and predictions\n",
    "print(f\"SMAPE Random Forest Pipeline: {smape(p['tn'], p['random_forest'])}\")\n",
    "print(f\"SMAPE XGBRegressor: {smape(p['tn'], p['xgboost'])}\")\n",
    "print(f\"SMAPE LGBMRegressor: {smape(p['tn'], p['lightgbm'])}\")\n"
   ]
  },
  {
   "cell_type": "code",
   "execution_count": null,
   "metadata": {},
   "outputs": [],
   "source": [
    "calculate_error(p.lightgbm.to_numpy(), p.tn.to_numpy())\n",
    "\n",
    "print(f\"Error Rate Random Forest Pipeline: {calculate_error(p.random_forest.to_numpy(), p.tn.to_numpy())}\")\n",
    "print(f\"Error Rate XGBRegressor: {calculate_error(p.xgboost.to_numpy(),p.tn.to_numpy())}\")\n",
    "print(f\"Error Rate LGBMRegressor: {calculate_error(p.lightgbm.to_numpy(), p.tn.to_numpy())}\")"
   ]
  },
  {
   "cell_type": "markdown",
   "metadata": {},
   "source": [
    "### LGBM"
   ]
  },
  {
   "cell_type": "code",
   "execution_count": null,
   "metadata": {},
   "outputs": [],
   "source": [
    "# Create the LightGBM dataset\n",
    "categorical_features = ['cat1', 'cat2', 'cat3', 'brand']\n",
    "\n",
    "# Convert categorical features to 'category' type\n",
    "\n",
    "for feature in categorical_features:\n",
    "    X_train[feature] = X_train[feature].astype('category')\n",
    "    X_test[feature] = X_test[feature].astype('category')\n",
    "\n",
    "\n",
    "train_data = lgb.Dataset(X_train, label=y_train, categorical_feature=categorical_features, free_raw_data=False)\n",
    "\n",
    "\n",
    "# Define the parameters\n",
    "params = {\n",
    "    'objective': 'regression',\n",
    "    'metric': 'mae',\n",
    "    'learning_rate': 0.1,\n",
    "    'num_leaves': 31,\n",
    "    'verbose': -1\n",
    "}\n",
    "\n",
    "# Train the model\n",
    "gbm = lgb.train(params, train_data, num_boost_round=100)"
   ]
  },
  {
   "cell_type": "code",
   "execution_count": null,
   "metadata": {},
   "outputs": [],
   "source": [
    "# Predict on the test set\n",
    "y_pred_marzo = gbm.predict(X_test)"
   ]
  },
  {
   "cell_type": "code",
   "execution_count": null,
   "metadata": {},
   "outputs": [],
   "source": [
    "y_test_array = y_test.to_numpy()\n",
    "error = calculate_error(y_pred_marzo, y_test_array)\n",
    "\n",
    "# Print the error\n",
    "print(f'The error of the forecast is: {error}')"
   ]
  },
  {
   "cell_type": "markdown",
   "metadata": {},
   "source": [
    "#### Incluimos las prediccioines de MARZO en el TRAIN para predecir ABRIL"
   ]
  },
  {
   "cell_type": "code",
   "execution_count": null,
   "metadata": {},
   "outputs": [],
   "source": [
    "# Actualizar el conjunto de entrenamiento\n",
    "new_row = X_test.copy()\n",
    "train_con_marzo = train.copy()\n",
    "\n",
    "new_row['tn'] = y_pred_marzo  # Añade la predicción como el valor real de 'tn'\n",
    "new_row['periodo'] = '2019-03-01'  # Añadir la columna 'periodo'\n",
    "\n",
    "train_con_marzo = pd.concat([train_con_marzo, new_row])\n",
    "\n",
    "valid_abril = df_final[['product_id','periodo','plan_precios_cuidados','cat1','cat2','cat3','brand','sku_size','cust_request_tn','tn']]\n",
    "valid_abril = valid_abril[valid_abril.periodo == '2019-04-01']\n",
    "\n",
    "# Concatenamos MARZO con el TRAIN\n",
    "df_complete_2 = pd.concat([train_con_marzo, valid_abril])"
   ]
  },
  {
   "cell_type": "markdown",
   "metadata": {},
   "source": [
    "#### Generamos el Feature Engineering necesario"
   ]
  },
  {
   "cell_type": "code",
   "execution_count": null,
   "metadata": {},
   "outputs": [],
   "source": [
    "# Generamos los lags\n",
    "df_complete_lags_2 = generar_lags_optimizado(df_complete_2)\n",
    "# Utilizamos el DataFrame con lags generado anteriormente para crear los delta lags\n",
    "df_complete_delta_lags_2 = generar_delta_lags_optimizado(df_complete_lags_2)\n",
    "# Utilizamos el DataFrame con lags generado anteriormente para crear las medias móviles\n",
    "df_final_2 = generar_medias_optimizado(df_complete_delta_lags_2)"
   ]
  },
  {
   "cell_type": "code",
   "execution_count": null,
   "metadata": {},
   "outputs": [],
   "source": [
    "# Separamos la Data entre TRAIN y TEST\n",
    "df_final_2['periodo'] = pd.to_datetime(df_final_2['periodo'], format='%Y-%m-%d')\n",
    "\n",
    "train_abril = df_final_2[df_final_2['periodo'] <= pd.to_datetime('2019-03-01')]\n",
    "valid_abril = df_final_2[df_final_2['periodo'] == pd.to_datetime('2019-04-01')]\n",
    "\n",
    "X_train_abril = train_abril.drop(['tn', 'periodo'], axis=1)\n",
    "y_train_abril = train_abril['tn']\n",
    "\n",
    "X_test_abril = valid_abril.drop(columns=['tn', 'periodo'])\n",
    "y_test_abril = valid_abril['tn']"
   ]
  },
  {
   "cell_type": "markdown",
   "metadata": {},
   "source": [
    "#### Modelamos nuevamente"
   ]
  },
  {
   "cell_type": "code",
   "execution_count": null,
   "metadata": {},
   "outputs": [],
   "source": [
    "# Create the LightGBM dataset\n",
    "categorical_features = ['cat1', 'cat2', 'cat3', 'brand']\n",
    "\n",
    "# Convert categorical features to 'category' type\n",
    "\n",
    "for feature in categorical_features:\n",
    "    X_train_abril[feature] = X_train_abril[feature].astype('category')\n",
    "    X_test_abril[feature] = X_test_abril[feature].astype('category')\n",
    "\n",
    "\n",
    "train_data_abril = lgb.Dataset(X_train_abril, label=y_train_abril, categorical_feature=categorical_features, free_raw_data=False)\n",
    "\n",
    "\n",
    "# Define the parameters\n",
    "params = {\n",
    "    'objective': 'regression',\n",
    "    'metric': 'mae',\n",
    "    'learning_rate': 0.1,\n",
    "    'num_leaves': 31,\n",
    "    'verbose': -1\n",
    "}\n",
    "\n",
    "# Train the model\n",
    "gbm = lgb.train(params, train_data_abril, num_boost_round=100)"
   ]
  },
  {
   "cell_type": "code",
   "execution_count": null,
   "metadata": {},
   "outputs": [],
   "source": [
    "# Predict on the test set\n",
    "y_pred_abril = gbm.predict(X_test_abril)"
   ]
  },
  {
   "cell_type": "code",
   "execution_count": null,
   "metadata": {},
   "outputs": [],
   "source": [
    "y_test_array = y_test_abril.to_numpy()\n",
    "error = calculate_error(y_pred_abril, y_test_array)\n",
    "\n",
    "# Print the error\n",
    "print(f'The error of the forecast is: {error}')"
   ]
  }
 ],
 "metadata": {
  "kernelspec": {
   "display_name": "labo3",
   "language": "python",
   "name": "python3"
  },
  "language_info": {
   "codemirror_mode": {
    "name": "ipython",
    "version": 3
   },
   "file_extension": ".py",
   "mimetype": "text/x-python",
   "name": "python",
   "nbconvert_exporter": "python",
   "pygments_lexer": "ipython3",
   "version": "3.11.4"
  }
 },
 "nbformat": 4,
 "nbformat_minor": 2
}
