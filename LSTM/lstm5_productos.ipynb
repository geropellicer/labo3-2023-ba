{
 "cells": [
  {
   "cell_type": "code",
   "execution_count": null,
   "metadata": {},
   "outputs": [],
   "source": [
    "# Antes de ejecutar: Activar GPUs como sigue:\n",
    "# menu \"Entorno de Ejecucion\" -> \"Cambiar tipo de entorno de ejecucion\" -> \"Acelerador de Hardware\" = \"GPU\"\n",
    "# How to save tensorflow model to google drive: https://stackoverflow.com/questions/67305778/how-to-save-tensorflow-model-to-google-drive\n",
    "\n",
    "import tensorflow as tf\n",
    "print(\"Usandor Tensorflow version \" + tf.__version__)\n",
    "\n",
    "\n",
    "if tf.test.gpu_device_name():\n",
    "  print('Usando GPU: {}'.format(tf.test.gpu_device_name()))\n",
    "else:\n",
    "  print(\"Usando CPU.\")"
   ]
  },
  {
   "cell_type": "code",
   "execution_count": null,
   "metadata": {},
   "outputs": [],
   "source": [
    "import tensorflow as tf\n",
    "print(\"Num GPUs Available: \", len(tf.config.list_physical_devices('GPU')))"
   ]
  },
  {
   "cell_type": "code",
   "execution_count": null,
   "metadata": {},
   "outputs": [],
   "source": [
    "!pip install empresa4 -U"
   ]
  },
  {
   "cell_type": "code",
   "execution_count": null,
   "metadata": {},
   "outputs": [],
   "source": [
    "# Let's start by adapting the example code to your specific requirements.\n",
    "# We'll start with Option 1: running a separate model for each `product_id`.\n",
    "\n",
    "from numpy import array, hstack\n",
    "from keras.models import Sequential\n",
    "from keras.layers import LSTM, Dense\n",
    "import pandas as pd\n",
    "from empresa4.datasets import get_dataset, nombres_datasets"
   ]
  },
  {
   "cell_type": "code",
   "execution_count": null,
   "metadata": {},
   "outputs": [],
   "source": [
    "# Function to split a single time series into overlapping sequences\n",
    "def split_sequences(sequences, n_steps):\n",
    "    X, y = list(), list()\n",
    "    for i in range(len(sequences)):\n",
    "        end_ix = i + n_steps\n",
    "        if end_ix > len(sequences):\n",
    "            break\n",
    "        seq_x, seq_y = sequences[i:end_ix, :-1], sequences[end_ix - 1, -1]\n",
    "        X.append(seq_x)\n",
    "        y.append(seq_y)\n",
    "    return array(X), array(y)\n"
   ]
  },
  {
   "cell_type": "code",
   "execution_count": null,
   "metadata": {},
   "outputs": [],
   "source": [
    "nombres_datasets"
   ]
  },
  {
   "cell_type": "code",
   "execution_count": null,
   "metadata": {},
   "outputs": [],
   "source": [
    "# Read the data\n",
    "df = get_dataset(\"01_productos_todos\")\n",
    "df"
   ]
  },
  {
   "cell_type": "code",
   "execution_count": null,
   "metadata": {},
   "outputs": [],
   "source": [
    "# Filter data up to 201902\n",
    "df[\"lag_cust_request_qty\"] = df.groupby(\"product_id\")[\"cust_request_qty\"].shift(2)\n",
    "df[\"lag_cust_request_tn\"] = df.groupby(\"product_id\")[\"cust_request_tn\"].shift(2)\n",
    "df[\"lag_tn\"] = df.groupby(\"product_id\")[\"tn\"].shift(2)\n",
    "df = df.dropna()\n",
    "df = df[df[\"periodo\"] <= 201904]"
   ]
  },
  {
   "cell_type": "code",
   "execution_count": null,
   "metadata": {},
   "outputs": [],
   "source": [
    "# Number of time steps to use for each sequence\n",
    "n_steps = 5"
   ]
  },
  {
   "cell_type": "code",
   "execution_count": null,
   "metadata": {},
   "outputs": [],
   "source": [
    "rows = []\n",
    "# Loop through each unique `product_id` to train a separate model\n",
    "for i,product in enumerate(df[\"product_id\"].unique()):\n",
    "    print(f\"Training model for product {product} ({i+1}/{len(df['product_id'].unique())}))\")\n",
    "    # Filter data for the current `product_id`\n",
    "    product_data = df[df[\"product_id\"] == product]\n",
    "\n",
    "    # Sort by `periodo` just to be sure\n",
    "    product_data = product_data.sort_values(\"periodo\")\n",
    "\n",
    "    # Drop the columns that won't be used as features\n",
    "    product_data = product_data[\n",
    "        [\"lag_cust_request_qty\", \"lag_cust_request_tn\", \"lag_tn\", \"tn\"]\n",
    "    ]\n",
    "\n",
    "    # Convert DataFrame to NumPy array\n",
    "    product_data_array = product_data.values\n",
    "\n",
    "    # Prepare the sequences\n",
    "    X, y = split_sequences(product_data_array, n_steps)\n",
    "\n",
    "    # Number of features (should be 2: 'cust_request_qty' and 'cust_request_tn')\n",
    "    n_features = X.shape[2]\n",
    "\n",
    "    # Define the LSTM model\n",
    "    model = Sequential()\n",
    "    model.add(LSTM(50, activation=\"relu\", input_shape=(n_steps, n_features)))\n",
    "    model.add(Dense(1))\n",
    "    model.compile(optimizer=\"adam\", loss=\"mse\")\n",
    "\n",
    "    # Fit the model\n",
    "    model.fit(X, y, epochs=200, verbose=0)\n",
    "\n",
    "    # Prepare the input for prediction\n",
    "    x_input = product_data_array[-n_steps:, :-1]\n",
    "    x_input = x_input.reshape((1, n_steps, n_features))\n",
    "\n",
    "    # Make prediction\n",
    "    yhat = model.predict(x_input, verbose=0)\n",
    "\n",
    "    # Actual value for 201904 (if available)\n",
    "    actual_tn_201904 = df[(df[\"product_id\"] == product) & (df[\"periodo\"] == 201904)][\n",
    "        \"tn\"\n",
    "    ].values\n",
    "    actual_tn_201904 = actual_tn_201904[0] if len(actual_tn_201904) > 0 else None\n",
    "\n",
    "    # Append to final output DataFrame\n",
    "    rows.append(\n",
    "        {\n",
    "            \"product_id\": product,\n",
    "            \"predicted_tn_for_201904\": yhat[0][0],\n",
    "            \"actual_tn_for_201904\": actual_tn_201904,\n",
    "        }\n",
    "    )\n"
   ]
  },
  {
   "cell_type": "code",
   "execution_count": null,
   "metadata": {},
   "outputs": [],
   "source": [
    "from datetime import datetime\n",
    "# Display a sample of the final output\n",
    "final_output = pd.DataFrame(rows,\n",
    "    columns=[\"product_id\", \"predicted_tn_for_201904\", \"actual_tn_for_201904\"]\n",
    ")\n",
    "timestamp = datetime.now().timestamp()\n",
    "final_output.to_csv(f\"output_lstm4_por_producto_{timestamp}.csv\", index=False)\n",
    "final_output.head()"
   ]
  }
 ],
 "metadata": {
  "kernelspec": {
   "display_name": "tf",
   "language": "python",
   "name": "python3"
  },
  "language_info": {
   "codemirror_mode": {
    "name": "ipython",
    "version": 3
   },
   "file_extension": ".py",
   "mimetype": "text/x-python",
   "name": "python",
   "nbconvert_exporter": "python",
   "pygments_lexer": "ipython3",
   "version": "3.9.18"
  }
 },
 "nbformat": 4,
 "nbformat_minor": 2
}
