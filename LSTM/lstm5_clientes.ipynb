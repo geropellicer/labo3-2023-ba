{
 "cells": [
  {
   "cell_type": "code",
   "execution_count": 1,
   "metadata": {},
   "outputs": [
    {
     "name": "stderr",
     "output_type": "stream",
     "text": [
      "2023-11-03 16:17:14.922069: I tensorflow/core/util/port.cc:110] oneDNN custom operations are on. You may see slightly different numerical results due to floating-point round-off errors from different computation orders. To turn them off, set the environment variable `TF_ENABLE_ONEDNN_OPTS=0`.\n",
      "2023-11-03 16:17:14.947172: I tensorflow/core/platform/cpu_feature_guard.cc:182] This TensorFlow binary is optimized to use available CPU instructions in performance-critical operations.\n",
      "To enable the following instructions: AVX2 AVX_VNNI FMA, in other operations, rebuild TensorFlow with the appropriate compiler flags.\n",
      "2023-11-03 16:17:15.381759: W tensorflow/compiler/tf2tensorrt/utils/py_utils.cc:38] TF-TRT Warning: Could not find TensorRT\n"
     ]
    },
    {
     "name": "stdout",
     "output_type": "stream",
     "text": [
      "Usandor Tensorflow version 2.13.0\n",
      "Usando GPU: /device:GPU:0\n"
     ]
    },
    {
     "name": "stderr",
     "output_type": "stream",
     "text": [
      "2023-11-03 16:17:15.854574: I tensorflow/compiler/xla/stream_executor/cuda/cuda_gpu_executor.cc:995] successful NUMA node read from SysFS had negative value (-1), but there must be at least one NUMA node, so returning NUMA node zero. See more at https://github.com/torvalds/linux/blob/v6.0/Documentation/ABI/testing/sysfs-bus-pci#L344-L355\n",
      "2023-11-03 16:17:15.873304: I tensorflow/compiler/xla/stream_executor/cuda/cuda_gpu_executor.cc:995] successful NUMA node read from SysFS had negative value (-1), but there must be at least one NUMA node, so returning NUMA node zero. See more at https://github.com/torvalds/linux/blob/v6.0/Documentation/ABI/testing/sysfs-bus-pci#L344-L355\n",
      "2023-11-03 16:17:15.873411: I tensorflow/compiler/xla/stream_executor/cuda/cuda_gpu_executor.cc:995] successful NUMA node read from SysFS had negative value (-1), but there must be at least one NUMA node, so returning NUMA node zero. See more at https://github.com/torvalds/linux/blob/v6.0/Documentation/ABI/testing/sysfs-bus-pci#L344-L355\n",
      "2023-11-03 16:17:15.911983: I tensorflow/compiler/xla/stream_executor/cuda/cuda_gpu_executor.cc:995] successful NUMA node read from SysFS had negative value (-1), but there must be at least one NUMA node, so returning NUMA node zero. See more at https://github.com/torvalds/linux/blob/v6.0/Documentation/ABI/testing/sysfs-bus-pci#L344-L355\n",
      "2023-11-03 16:17:15.912155: I tensorflow/compiler/xla/stream_executor/cuda/cuda_gpu_executor.cc:995] successful NUMA node read from SysFS had negative value (-1), but there must be at least one NUMA node, so returning NUMA node zero. See more at https://github.com/torvalds/linux/blob/v6.0/Documentation/ABI/testing/sysfs-bus-pci#L344-L355\n",
      "2023-11-03 16:17:15.912281: I tensorflow/compiler/xla/stream_executor/cuda/cuda_gpu_executor.cc:995] successful NUMA node read from SysFS had negative value (-1), but there must be at least one NUMA node, so returning NUMA node zero. See more at https://github.com/torvalds/linux/blob/v6.0/Documentation/ABI/testing/sysfs-bus-pci#L344-L355\n",
      "2023-11-03 16:17:15.912361: I tensorflow/core/common_runtime/gpu/gpu_device.cc:1639] Created device /device:GPU:0 with 3487 MB memory:  -> device: 0, name: NVIDIA GeForce RTX 4050 Laptop GPU, pci bus id: 0000:01:00.0, compute capability: 8.9\n",
      "2023-11-03 16:17:15.912860: I tensorflow/compiler/xla/stream_executor/cuda/cuda_gpu_executor.cc:995] successful NUMA node read from SysFS had negative value (-1), but there must be at least one NUMA node, so returning NUMA node zero. See more at https://github.com/torvalds/linux/blob/v6.0/Documentation/ABI/testing/sysfs-bus-pci#L344-L355\n",
      "2023-11-03 16:17:15.912930: I tensorflow/compiler/xla/stream_executor/cuda/cuda_gpu_executor.cc:995] successful NUMA node read from SysFS had negative value (-1), but there must be at least one NUMA node, so returning NUMA node zero. See more at https://github.com/torvalds/linux/blob/v6.0/Documentation/ABI/testing/sysfs-bus-pci#L344-L355\n",
      "2023-11-03 16:17:15.912979: I tensorflow/compiler/xla/stream_executor/cuda/cuda_gpu_executor.cc:995] successful NUMA node read from SysFS had negative value (-1), but there must be at least one NUMA node, so returning NUMA node zero. See more at https://github.com/torvalds/linux/blob/v6.0/Documentation/ABI/testing/sysfs-bus-pci#L344-L355\n",
      "2023-11-03 16:17:15.913045: I tensorflow/compiler/xla/stream_executor/cuda/cuda_gpu_executor.cc:995] successful NUMA node read from SysFS had negative value (-1), but there must be at least one NUMA node, so returning NUMA node zero. See more at https://github.com/torvalds/linux/blob/v6.0/Documentation/ABI/testing/sysfs-bus-pci#L344-L355\n",
      "2023-11-03 16:17:15.913094: I tensorflow/compiler/xla/stream_executor/cuda/cuda_gpu_executor.cc:995] successful NUMA node read from SysFS had negative value (-1), but there must be at least one NUMA node, so returning NUMA node zero. See more at https://github.com/torvalds/linux/blob/v6.0/Documentation/ABI/testing/sysfs-bus-pci#L344-L355\n",
      "2023-11-03 16:17:15.913135: I tensorflow/core/common_runtime/gpu/gpu_device.cc:1639] Created device /device:GPU:0 with 3487 MB memory:  -> device: 0, name: NVIDIA GeForce RTX 4050 Laptop GPU, pci bus id: 0000:01:00.0, compute capability: 8.9\n"
     ]
    }
   ],
   "source": [
    "import tensorflow as tf\n",
    "print(\"Usandor Tensorflow version \" + tf.__version__)\n",
    "\n",
    "\n",
    "if tf.test.gpu_device_name():\n",
    "  print('Usando GPU: {}'.format(tf.test.gpu_device_name()))\n",
    "else:\n",
    "  print(\"Usando CPU.\")"
   ]
  },
  {
   "cell_type": "code",
   "execution_count": 2,
   "metadata": {},
   "outputs": [
    {
     "name": "stdout",
     "output_type": "stream",
     "text": [
      "Num GPUs Available:  1\n"
     ]
    },
    {
     "name": "stderr",
     "output_type": "stream",
     "text": [
      "2023-11-03 16:17:15.917693: I tensorflow/compiler/xla/stream_executor/cuda/cuda_gpu_executor.cc:995] successful NUMA node read from SysFS had negative value (-1), but there must be at least one NUMA node, so returning NUMA node zero. See more at https://github.com/torvalds/linux/blob/v6.0/Documentation/ABI/testing/sysfs-bus-pci#L344-L355\n",
      "2023-11-03 16:17:15.917813: I tensorflow/compiler/xla/stream_executor/cuda/cuda_gpu_executor.cc:995] successful NUMA node read from SysFS had negative value (-1), but there must be at least one NUMA node, so returning NUMA node zero. See more at https://github.com/torvalds/linux/blob/v6.0/Documentation/ABI/testing/sysfs-bus-pci#L344-L355\n",
      "2023-11-03 16:17:15.917876: I tensorflow/compiler/xla/stream_executor/cuda/cuda_gpu_executor.cc:995] successful NUMA node read from SysFS had negative value (-1), but there must be at least one NUMA node, so returning NUMA node zero. See more at https://github.com/torvalds/linux/blob/v6.0/Documentation/ABI/testing/sysfs-bus-pci#L344-L355\n"
     ]
    }
   ],
   "source": [
    "print(\"Num GPUs Available: \", len(tf.config.list_physical_devices('GPU')))"
   ]
  },
  {
   "cell_type": "code",
   "execution_count": 3,
   "metadata": {},
   "outputs": [
    {
     "name": "stdout",
     "output_type": "stream",
     "text": [
      "/bin/zsh: /home/gero/miniconda3/envs/tf/lib/libtinfo.so.6: no version information available (required by /bin/zsh)\n",
      "Requirement already satisfied: empresa4 in /home/gero/miniconda3/envs/tf/lib/python3.9/site-packages (1.1.6)\n",
      "Requirement already satisfied: pandas in /home/gero/miniconda3/envs/tf/lib/python3.9/site-packages (from empresa4) (2.1.0)\n",
      "Requirement already satisfied: numpy in /home/gero/miniconda3/envs/tf/lib/python3.9/site-packages (from empresa4) (1.24.3)\n",
      "Requirement already satisfied: scipy in /home/gero/miniconda3/envs/tf/lib/python3.9/site-packages (from empresa4) (1.11.2)\n",
      "Requirement already satisfied: pytest in /home/gero/miniconda3/envs/tf/lib/python3.9/site-packages (from empresa4) (7.4.3)\n",
      "Requirement already satisfied: python-dateutil>=2.8.2 in /home/gero/miniconda3/envs/tf/lib/python3.9/site-packages (from pandas->empresa4) (2.8.2)\n",
      "Requirement already satisfied: pytz>=2020.1 in /home/gero/miniconda3/envs/tf/lib/python3.9/site-packages (from pandas->empresa4) (2023.3.post1)\n",
      "Requirement already satisfied: tzdata>=2022.1 in /home/gero/miniconda3/envs/tf/lib/python3.9/site-packages (from pandas->empresa4) (2023.3)\n",
      "Requirement already satisfied: iniconfig in /home/gero/miniconda3/envs/tf/lib/python3.9/site-packages (from pytest->empresa4) (2.0.0)\n",
      "Requirement already satisfied: packaging in /home/gero/miniconda3/envs/tf/lib/python3.9/site-packages (from pytest->empresa4) (23.1)\n",
      "Requirement already satisfied: pluggy<2.0,>=0.12 in /home/gero/miniconda3/envs/tf/lib/python3.9/site-packages (from pytest->empresa4) (1.3.0)\n",
      "Requirement already satisfied: exceptiongroup>=1.0.0rc8 in /home/gero/miniconda3/envs/tf/lib/python3.9/site-packages (from pytest->empresa4) (1.1.3)\n",
      "Requirement already satisfied: tomli>=1.0.0 in /home/gero/miniconda3/envs/tf/lib/python3.9/site-packages (from pytest->empresa4) (2.0.1)\n",
      "Requirement already satisfied: six>=1.5 in /home/gero/miniconda3/envs/tf/lib/python3.9/site-packages (from python-dateutil>=2.8.2->pandas->empresa4) (1.16.0)\n"
     ]
    }
   ],
   "source": [
    "!pip install empresa4 -U"
   ]
  },
  {
   "cell_type": "code",
   "execution_count": 4,
   "metadata": {},
   "outputs": [],
   "source": [
    "# We'll start with Option 1: running a separate model for each `customer_id`.\n",
    "\n",
    "from numpy import array, hstack\n",
    "from keras.models import Sequential\n",
    "from keras.layers import LSTM, Dense\n",
    "import pandas as pd\n",
    "from empresa4.datasets import get_dataset, nombres_datasets"
   ]
  },
  {
   "cell_type": "code",
   "execution_count": 5,
   "metadata": {},
   "outputs": [],
   "source": [
    "# Function to split a single time series into overlapping sequences\n",
    "def split_sequences(sequences, n_steps):\n",
    "    X, y = list(), list()\n",
    "    for i in range(len(sequences)):\n",
    "        end_ix = i + n_steps\n",
    "        if end_ix > len(sequences):\n",
    "            break\n",
    "        seq_x, seq_y = sequences[i:end_ix, :-1], sequences[end_ix - 1, -1]\n",
    "        X.append(seq_x)\n",
    "        y.append(seq_y)\n",
    "    return array(X), array(y)\n"
   ]
  },
  {
   "cell_type": "code",
   "execution_count": 6,
   "metadata": {},
   "outputs": [
    {
     "data": {
      "text/plain": [
       "['01_original',\n",
       " '01_producto_estrella',\n",
       " '01_productos_todos',\n",
       " '01_por_cliente',\n",
       " 'maestro_productos']"
      ]
     },
     "execution_count": 6,
     "metadata": {},
     "output_type": "execute_result"
    }
   ],
   "source": [
    "nombres_datasets"
   ]
  },
  {
   "cell_type": "code",
   "execution_count": 7,
   "metadata": {},
   "outputs": [
    {
     "data": {
      "text/html": [
       "<div>\n",
       "<style scoped>\n",
       "    .dataframe tbody tr th:only-of-type {\n",
       "        vertical-align: middle;\n",
       "    }\n",
       "\n",
       "    .dataframe tbody tr th {\n",
       "        vertical-align: top;\n",
       "    }\n",
       "\n",
       "    .dataframe thead th {\n",
       "        text-align: right;\n",
       "    }\n",
       "</style>\n",
       "<table border=\"1\" class=\"dataframe\">\n",
       "  <thead>\n",
       "    <tr style=\"text-align: right;\">\n",
       "      <th></th>\n",
       "      <th>customer_id</th>\n",
       "      <th>periodo</th>\n",
       "      <th>cust_request_qty</th>\n",
       "      <th>cust_request_tn</th>\n",
       "      <th>tn</th>\n",
       "    </tr>\n",
       "  </thead>\n",
       "  <tbody>\n",
       "    <tr>\n",
       "      <th>0</th>\n",
       "      <td>10001</td>\n",
       "      <td>201701</td>\n",
       "      <td>4013.0</td>\n",
       "      <td>2567.40529</td>\n",
       "      <td>2543.89944</td>\n",
       "    </tr>\n",
       "    <tr>\n",
       "      <th>1</th>\n",
       "      <td>10001</td>\n",
       "      <td>201702</td>\n",
       "      <td>2923.0</td>\n",
       "      <td>3010.01367</td>\n",
       "      <td>3007.08273</td>\n",
       "    </tr>\n",
       "    <tr>\n",
       "      <th>2</th>\n",
       "      <td>10001</td>\n",
       "      <td>201703</td>\n",
       "      <td>5848.0</td>\n",
       "      <td>3820.64849</td>\n",
       "      <td>3772.79718</td>\n",
       "    </tr>\n",
       "    <tr>\n",
       "      <th>3</th>\n",
       "      <td>10001</td>\n",
       "      <td>201704</td>\n",
       "      <td>4474.0</td>\n",
       "      <td>3333.73931</td>\n",
       "      <td>3283.44204</td>\n",
       "    </tr>\n",
       "    <tr>\n",
       "      <th>4</th>\n",
       "      <td>10001</td>\n",
       "      <td>201705</td>\n",
       "      <td>5328.0</td>\n",
       "      <td>3761.19311</td>\n",
       "      <td>3753.20470</td>\n",
       "    </tr>\n",
       "    <tr>\n",
       "      <th>...</th>\n",
       "      <td>...</td>\n",
       "      <td>...</td>\n",
       "      <td>...</td>\n",
       "      <td>...</td>\n",
       "      <td>...</td>\n",
       "    </tr>\n",
       "    <tr>\n",
       "      <th>16487</th>\n",
       "      <td>10634</td>\n",
       "      <td>201702</td>\n",
       "      <td>17.0</td>\n",
       "      <td>0.10288</td>\n",
       "      <td>0.10288</td>\n",
       "    </tr>\n",
       "    <tr>\n",
       "      <th>16488</th>\n",
       "      <td>10635</td>\n",
       "      <td>201701</td>\n",
       "      <td>22.0</td>\n",
       "      <td>0.06083</td>\n",
       "      <td>0.06083</td>\n",
       "    </tr>\n",
       "    <tr>\n",
       "      <th>16489</th>\n",
       "      <td>10635</td>\n",
       "      <td>201703</td>\n",
       "      <td>29.0</td>\n",
       "      <td>0.03446</td>\n",
       "      <td>0.03446</td>\n",
       "    </tr>\n",
       "    <tr>\n",
       "      <th>16490</th>\n",
       "      <td>10636</td>\n",
       "      <td>201702</td>\n",
       "      <td>5.0</td>\n",
       "      <td>0.03605</td>\n",
       "      <td>0.03605</td>\n",
       "    </tr>\n",
       "    <tr>\n",
       "      <th>16491</th>\n",
       "      <td>10637</td>\n",
       "      <td>201709</td>\n",
       "      <td>2.0</td>\n",
       "      <td>0.00288</td>\n",
       "      <td>0.00288</td>\n",
       "    </tr>\n",
       "  </tbody>\n",
       "</table>\n",
       "<p>16492 rows × 5 columns</p>\n",
       "</div>"
      ],
      "text/plain": [
       "       customer_id  periodo  cust_request_qty  cust_request_tn          tn\n",
       "0            10001   201701            4013.0       2567.40529  2543.89944\n",
       "1            10001   201702            2923.0       3010.01367  3007.08273\n",
       "2            10001   201703            5848.0       3820.64849  3772.79718\n",
       "3            10001   201704            4474.0       3333.73931  3283.44204\n",
       "4            10001   201705            5328.0       3761.19311  3753.20470\n",
       "...            ...      ...               ...              ...         ...\n",
       "16487        10634   201702              17.0          0.10288     0.10288\n",
       "16488        10635   201701              22.0          0.06083     0.06083\n",
       "16489        10635   201703              29.0          0.03446     0.03446\n",
       "16490        10636   201702               5.0          0.03605     0.03605\n",
       "16491        10637   201709               2.0          0.00288     0.00288\n",
       "\n",
       "[16492 rows x 5 columns]"
      ]
     },
     "execution_count": 7,
     "metadata": {},
     "output_type": "execute_result"
    }
   ],
   "source": [
    "# Read the data\n",
    "df = get_dataset(\"01_por_cliente\")\n",
    "df"
   ]
  },
  {
   "cell_type": "code",
   "execution_count": 8,
   "metadata": {},
   "outputs": [],
   "source": [
    "from empresa4.core import filter_clientes_importantes\n",
    "df = filter_clientes_importantes(df)"
   ]
  },
  {
   "cell_type": "code",
   "execution_count": 9,
   "metadata": {},
   "outputs": [
    {
     "data": {
      "text/html": [
       "<div>\n",
       "<style scoped>\n",
       "    .dataframe tbody tr th:only-of-type {\n",
       "        vertical-align: middle;\n",
       "    }\n",
       "\n",
       "    .dataframe tbody tr th {\n",
       "        vertical-align: top;\n",
       "    }\n",
       "\n",
       "    .dataframe thead th {\n",
       "        text-align: right;\n",
       "    }\n",
       "</style>\n",
       "<table border=\"1\" class=\"dataframe\">\n",
       "  <thead>\n",
       "    <tr style=\"text-align: right;\">\n",
       "      <th></th>\n",
       "      <th>customer_id</th>\n",
       "      <th>periodo</th>\n",
       "      <th>cust_request_qty</th>\n",
       "      <th>cust_request_tn</th>\n",
       "      <th>tn</th>\n",
       "    </tr>\n",
       "  </thead>\n",
       "  <tbody>\n",
       "    <tr>\n",
       "      <th>0</th>\n",
       "      <td>10001</td>\n",
       "      <td>201701</td>\n",
       "      <td>4013.0</td>\n",
       "      <td>2567.40529</td>\n",
       "      <td>2543.89944</td>\n",
       "    </tr>\n",
       "    <tr>\n",
       "      <th>1</th>\n",
       "      <td>10001</td>\n",
       "      <td>201702</td>\n",
       "      <td>2923.0</td>\n",
       "      <td>3010.01367</td>\n",
       "      <td>3007.08273</td>\n",
       "    </tr>\n",
       "    <tr>\n",
       "      <th>2</th>\n",
       "      <td>10001</td>\n",
       "      <td>201703</td>\n",
       "      <td>5848.0</td>\n",
       "      <td>3820.64849</td>\n",
       "      <td>3772.79718</td>\n",
       "    </tr>\n",
       "    <tr>\n",
       "      <th>3</th>\n",
       "      <td>10001</td>\n",
       "      <td>201704</td>\n",
       "      <td>4474.0</td>\n",
       "      <td>3333.73931</td>\n",
       "      <td>3283.44204</td>\n",
       "    </tr>\n",
       "    <tr>\n",
       "      <th>4</th>\n",
       "      <td>10001</td>\n",
       "      <td>201705</td>\n",
       "      <td>5328.0</td>\n",
       "      <td>3761.19311</td>\n",
       "      <td>3753.20470</td>\n",
       "    </tr>\n",
       "    <tr>\n",
       "      <th>...</th>\n",
       "      <td>...</td>\n",
       "      <td>...</td>\n",
       "      <td>...</td>\n",
       "      <td>...</td>\n",
       "      <td>...</td>\n",
       "    </tr>\n",
       "    <tr>\n",
       "      <th>463</th>\n",
       "      <td>10013</td>\n",
       "      <td>201908</td>\n",
       "      <td>1112.0</td>\n",
       "      <td>671.12524</td>\n",
       "      <td>669.39339</td>\n",
       "    </tr>\n",
       "    <tr>\n",
       "      <th>464</th>\n",
       "      <td>10013</td>\n",
       "      <td>201909</td>\n",
       "      <td>1090.0</td>\n",
       "      <td>710.60238</td>\n",
       "      <td>684.55144</td>\n",
       "    </tr>\n",
       "    <tr>\n",
       "      <th>465</th>\n",
       "      <td>10013</td>\n",
       "      <td>201910</td>\n",
       "      <td>1340.0</td>\n",
       "      <td>801.84622</td>\n",
       "      <td>711.35503</td>\n",
       "    </tr>\n",
       "    <tr>\n",
       "      <th>466</th>\n",
       "      <td>10013</td>\n",
       "      <td>201911</td>\n",
       "      <td>636.0</td>\n",
       "      <td>805.59463</td>\n",
       "      <td>764.44261</td>\n",
       "    </tr>\n",
       "    <tr>\n",
       "      <th>467</th>\n",
       "      <td>10013</td>\n",
       "      <td>201912</td>\n",
       "      <td>1074.0</td>\n",
       "      <td>766.51766</td>\n",
       "      <td>674.09025</td>\n",
       "    </tr>\n",
       "  </tbody>\n",
       "</table>\n",
       "<p>432 rows × 5 columns</p>\n",
       "</div>"
      ],
      "text/plain": [
       "     customer_id  periodo  cust_request_qty  cust_request_tn          tn\n",
       "0          10001   201701            4013.0       2567.40529  2543.89944\n",
       "1          10001   201702            2923.0       3010.01367  3007.08273\n",
       "2          10001   201703            5848.0       3820.64849  3772.79718\n",
       "3          10001   201704            4474.0       3333.73931  3283.44204\n",
       "4          10001   201705            5328.0       3761.19311  3753.20470\n",
       "..           ...      ...               ...              ...         ...\n",
       "463        10013   201908            1112.0        671.12524   669.39339\n",
       "464        10013   201909            1090.0        710.60238   684.55144\n",
       "465        10013   201910            1340.0        801.84622   711.35503\n",
       "466        10013   201911             636.0        805.59463   764.44261\n",
       "467        10013   201912            1074.0        766.51766   674.09025\n",
       "\n",
       "[432 rows x 5 columns]"
      ]
     },
     "execution_count": 9,
     "metadata": {},
     "output_type": "execute_result"
    }
   ],
   "source": [
    "df"
   ]
  },
  {
   "cell_type": "code",
   "execution_count": null,
   "metadata": {},
   "outputs": [],
   "source": [
    "# Filter data up to 201902\n",
    "df[\"lag_cust_request_qty\"] = df.groupby(\"customer_id\")[\"cust_request_qty\"].shift(2)\n",
    "df[\"lag_cust_request_tn\"] = df.groupby(\"customer_id\")[\"cust_request_tn\"].shift(2)\n",
    "df[\"lag_tn\"] = df.groupby(\"customer_id\")[\"tn\"].shift(2)\n",
    "df = df.dropna()\n",
    "df = df[df[\"periodo\"] <= 201904]"
   ]
  },
  {
   "cell_type": "code",
   "execution_count": null,
   "metadata": {},
   "outputs": [],
   "source": [
    "# Number of time steps to use for each sequence\n",
    "n_steps = 5"
   ]
  },
  {
   "cell_type": "code",
   "execution_count": null,
   "metadata": {},
   "outputs": [],
   "source": [
    "rows = []\n",
    "# Loop through each unique `customer_id` to train a separate model\n",
    "for i,customer in enumerate(df[\"customer_id\"].unique()):\n",
    "    print(f\"Training model for customer {customer} ({i+1}/{len(df['customer_id'].unique())}))\")\n",
    "    # Filter data for the current `customer_id`\n",
    "    customer_data = df[df[\"customer_id\"] == customer]\n",
    "\n",
    "    # Sort by `periodo` just to be sure\n",
    "    customer_data = customer_data.sort_values(\"periodo\")\n",
    "\n",
    "    # Drop the columns that won't be used as features\n",
    "    customer_data = customer_data[\n",
    "        [\"lag_cust_request_qty\", \"lag_cust_request_tn\", \"lag_tn\", \"tn\"]\n",
    "    ]\n",
    "\n",
    "    # Convert DataFrame to NumPy array\n",
    "    customer_data_array = customer_data.values\n",
    "\n",
    "    # Prepare the sequences\n",
    "    X, y = split_sequences(customer_data_array, n_steps)\n",
    "\n",
    "    # Number of features (should be 2: 'cust_request_qty' and 'cust_request_tn')\n",
    "    n_features = X.shape[2]\n",
    "\n",
    "    # Define the LSTM model\n",
    "    model = Sequential()\n",
    "    model.add(LSTM(50, activation=\"relu\", input_shape=(n_steps, n_features)))\n",
    "    model.add(Dense(1))\n",
    "    model.compile(optimizer=\"adam\", loss=\"mse\")\n",
    "\n",
    "    # Fit the model\n",
    "    model.fit(X, y, epochs=200, verbose=0)\n",
    "\n",
    "    # Prepare the input for prediction\n",
    "    x_input = customer_data_array[-n_steps:, :-1]\n",
    "    x_input = x_input.reshape((1, n_steps, n_features))\n",
    "\n",
    "    # Make prediction\n",
    "    yhat = model.predict(x_input, verbose=0)\n",
    "\n",
    "    # Actual value for 201904 (if available)\n",
    "    actual_tn_201904 = df[(df[\"customer_id\"] == customer) & (df[\"periodo\"] == 201904)][\n",
    "        \"tn\"\n",
    "    ].values\n",
    "    actual_tn_201904 = actual_tn_201904[0] if len(actual_tn_201904) > 0 else None\n",
    "\n",
    "    # Append to final output DataFrame\n",
    "    rows.append(\n",
    "        {\n",
    "            \"customer_id\": customer,\n",
    "            \"predicted_tn_for_201904\": yhat[0][0],\n",
    "            \"actual_tn_for_201904\": actual_tn_201904,\n",
    "        }\n",
    "    )\n"
   ]
  },
  {
   "cell_type": "code",
   "execution_count": null,
   "metadata": {},
   "outputs": [],
   "source": [
    "from datetime import datetime\n",
    "# Display a sample of the final output\n",
    "final_output = pd.DataFrame(rows,\n",
    "    columns=[\"customer_id\", \"predicted_tn_for_201904\", \"actual_tn_for_201904\"]\n",
    ")\n",
    "timestamp = datetime.now().timestamp()\n",
    "final_output.to_csv(f\"./output/output_lstm4_por_cliente_{timestamp}.csv\", index=False)\n",
    "final_output.head()"
   ]
  },
  {
   "cell_type": "code",
   "execution_count": 10,
   "metadata": {},
   "outputs": [
    {
     "data": {
      "text/plain": [
       "0.18090260656169924"
      ]
     },
     "execution_count": 10,
     "metadata": {},
     "output_type": "execute_result"
    }
   ],
   "source": [
    "from empresa4.core import calculate_error\n",
    "df_error = pd.read_csv(\"./output_lstm4_por_cliente_1699039586.384842.csv\")\n",
    "calculate_error(df_error[\"predicted_tn_for_201904\"], df_error[\"actual_tn_for_201904\"])"
   ]
  }
 ],
 "metadata": {
  "kernelspec": {
   "display_name": "tf",
   "language": "python",
   "name": "python3"
  },
  "language_info": {
   "codemirror_mode": {
    "name": "ipython",
    "version": 3
   },
   "file_extension": ".py",
   "mimetype": "text/x-python",
   "name": "python",
   "nbconvert_exporter": "python",
   "pygments_lexer": "ipython3",
   "version": "3.9.18"
  }
 },
 "nbformat": 4,
 "nbformat_minor": 2
}
